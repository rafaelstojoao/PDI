{
 "cells": [
  {
   "cell_type": "code",
   "execution_count": 7,
   "metadata": {},
   "outputs": [],
   "source": [
    "import cv2\n",
    "\n",
    "\n",
    "limiar_inferior = 30\n",
    "limiar_superior = 90\n",
    "\n",
    "tamanho_kernel  = 5\n",
    "\n",
    "img = cv2.imread('../fazendinha.png')\n",
    "cv2.imshow('Imagem Original',img)\n",
    "cv2.waitKey(0)  \n",
    "cv2.destroyAllWindows()\n"
   ]
  },
  {
   "cell_type": "code",
   "execution_count": 8,
   "metadata": {},
   "outputs": [],
   "source": [
    "img1 =  cv2.Canny(img,limiar_inferior,limiar_superior,tamanho_kernel)\n",
    "cv2.imshow('Somente Bordas',img1)\n",
    "cv2.waitKey(0)\n",
    "cv2.destroyAllWindows()\n"
   ]
  },
  {
   "cell_type": "markdown",
   "metadata": {},
   "source": [
    "# Contagem de objetos\n"
   ]
  },
  {
   "cell_type": "code",
   "execution_count": 10,
   "metadata": {},
   "outputs": [],
   "source": [
    "import cv2\n",
    "import numpy as np\n",
    "img = cv2.imread('../frutas.jpg')\n",
    "\n",
    "\n",
    "img = cv2.cvtColor(img, cv2.COLOR_BGR2GRAY) #convertendo para escala de cinza\n",
    "\n",
    "\n",
    "_, thresh = cv2.threshold(img, 225, 255, cv2.THRESH_BINARY_INV)\n",
    "\n",
    "\n",
    "kernal = np.ones((2, 2), np.uint8)\n",
    "\n",
    "\n",
    "dilation = cv2.dilate(thresh, kernal)\n",
    "\n",
    "\n",
    "contours, hierarchy = cv2.findContours(\n",
    "    dilation, cv2.RETR_EXTERNAL, cv2.CHAIN_APPROX_SIMPLE)\n",
    "\n",
    "objects = str(len(contours))\n",
    "\n",
    "\n",
    "text = \"Obj:\"+str(objects)\n",
    "cv2.putText(dilation, text, (10, 25),  cv2.FONT_HERSHEY_SIMPLEX,\n",
    "            0.4, (240, 0, 159), 1)\n",
    "\n",
    "cv2.imshow('Original', img)\n",
    "cv2.imshow('Dilation', dilation)\n",
    "\n",
    "cv2.waitKey(0)\n",
    "cv2.destroyAllWindows()"
   ]
  },
  {
   "cell_type": "markdown",
   "metadata": {},
   "source": [
    "https://www.pyimagesearch.com/2018/08/13/opencv-people-counter/"
   ]
  }
 ],
 "metadata": {
  "kernelspec": {
   "display_name": "Python 3",
   "language": "python",
   "name": "python3"
  },
  "language_info": {
   "codemirror_mode": {
    "name": "ipython",
    "version": 3
   },
   "file_extension": ".py",
   "mimetype": "text/x-python",
   "name": "python",
   "nbconvert_exporter": "python",
   "pygments_lexer": "ipython3",
   "version": "3.9.4"
  }
 },
 "nbformat": 4,
 "nbformat_minor": 4
}
